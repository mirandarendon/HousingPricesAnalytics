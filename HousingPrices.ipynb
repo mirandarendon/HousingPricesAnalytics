{
 "cells": [
  {
   "cell_type": "markdown",
   "metadata": {},
   "source": [
    "### Housing Prices Analytics\n",
    "#### Topic: Analyze previous year's home price in Los Angeles\n",
    "    Katherine Le and Miranda Rendon\n"
   ]
  },
  {
   "cell_type": "code",
   "execution_count": null,
   "metadata": {},
   "outputs": [],
   "source": [
    "# import packages\n",
    "import pandas as pd \n",
    "import seaborn as sns\n",
    "import matplotlib.pyplot as plt"
   ]
  },
  {
   "cell_type": "code",
   "execution_count": null,
   "metadata": {},
   "outputs": [],
   "source": [
    "# load datasets\n",
    "prices = pd.read_csv(\"MedianPricesofExistingDetachedHomesHistoricalData.csv\")\n",
    "timeOnMarket = pd.read_csv(\"MedianTimeonMarketofExistingDetachedHomesHistoricalData.csv\")\n",
    "unsoldInv = pd.read_csv(\"UnsoldInventoryIndexofExistingDetachedHomesHistoricalData.csv\")"
   ]
  },
  {
   "cell_type": "code",
   "execution_count": 7,
   "metadata": {},
   "outputs": [],
   "source": [
    "# get LA data from each set in a new df\n",
    "housingData = pd.DataFrame({\n",
    "    'Mon-Yr' : prices['Mon-Yr'],\n",
    "    'Median Price' : prices['Los Angeles'],\n",
    "    'Median Time on Market' : timeOnMarket['LA'],\n",
    "    'Unsold Inventory' : unsoldInv['Los Angeles']\n",
    "\n",
    "})\n",
    "\n",
    "# remove incomplete 2024 data\n",
    "housingData = housingData.iloc[:-8]\n",
    "\n",
    "# save cleaned data into new file\n",
    "housingData.to_csv('LAHousinData.csv', index = False)"
   ]
  }
 ],
 "metadata": {
  "kernelspec": {
   "display_name": "base",
   "language": "python",
   "name": "python3"
  },
  "language_info": {
   "codemirror_mode": {
    "name": "ipython",
    "version": 3
   },
   "file_extension": ".py",
   "mimetype": "text/x-python",
   "name": "python",
   "nbconvert_exporter": "python",
   "pygments_lexer": "ipython3",
   "version": "3.12.4"
  }
 },
 "nbformat": 4,
 "nbformat_minor": 2
}
